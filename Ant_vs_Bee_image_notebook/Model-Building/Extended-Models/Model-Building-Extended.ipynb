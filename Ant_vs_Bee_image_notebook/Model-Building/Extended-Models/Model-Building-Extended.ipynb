{
 "cells": [
  {
   "cell_type": "code",
   "execution_count": 1,
   "metadata": {},
   "outputs": [],
   "source": [
    "import torch.nn as nn\n",
    "import torch.nn.functional as f\n",
    "from torchsummary import summary"
   ]
  },
  {
   "cell_type": "code",
   "execution_count": 11,
   "metadata": {},
   "outputs": [],
   "source": [
    "class Model_1_E(nn.Module):\n",
    "    def __init__(self, model_name='Model_1_E'):\n",
    "        super(Model_1_E, self).__init__()\n",
    "        self.name = model_name\n",
    "        self.layer1 = nn.Sequential(\n",
    "            nn.Conv2d(in_channels=3, out_channels=9, kernel_size=4, stride=1, padding=0),\n",
    "            nn.BatchNorm2d(9),\n",
    "            nn.ReLU(),\n",
    "            nn.AdaptiveMaxPool2d((10, 10))\n",
    "        )\n",
    "        self.layer2 = nn.Sequential(\n",
    "            nn.Flatten(),\n",
    "            nn.Linear(10*10*9, 200),\n",
    "            nn.ReLU(),\n",
    "            nn.Linear(200, 1)\n",
    "        )\n",
    "    def forward(self, x):\n",
    "        x = self.layer1(x)\n",
    "        x = self.layer2(x)\n",
    "        x = f.sigmoid(x)\n",
    "        return x"
   ]
  },
  {
   "cell_type": "code",
   "execution_count": 17,
   "metadata": {},
   "outputs": [],
   "source": [
    "class Model_2_E(nn.Module):\n",
    "    def __init__(self, model_name='Model_2_E'):\n",
    "        super(Model_2_E, self).__init__()\n",
    "        self.name = model_name\n",
    "        self.layer1 = nn.Sequential(\n",
    "            nn.Conv2d(in_channels=3, out_channels=9, kernel_size=4, stride=1, padding=0),\n",
    "            nn.BatchNorm2d(9),\n",
    "            nn.ReLU(),\n",
    "            nn.AdaptiveAvgPool2d((100, 100))\n",
    "        )\n",
    "        self.layer2 = nn.Sequential(\n",
    "            nn.Conv2d(in_channels=9, out_channels=18, kernel_size=4, stride=1, padding=0),\n",
    "            nn.BatchNorm2d(18),\n",
    "            nn.ReLU(),\n",
    "            nn.AdaptiveMaxPool2d((10, 10))\n",
    "        )\n",
    "        self.layer3 = nn.Sequential(\n",
    "            nn.Flatten(),\n",
    "            nn.Linear(in_features=18*10*10, out_features=200),\n",
    "            nn.ReLU(),\n",
    "            nn.Linear(in_features=200, out_features=1)\n",
    "        )\n",
    "    def forward(self, x):\n",
    "        x = self.layer1(x)\n",
    "        x = self.layer2(x)\n",
    "        x = self.layer3(x)\n",
    "        x = f.sigmoid(x)\n",
    "        return x"
   ]
  },
  {
   "cell_type": "code",
   "execution_count": 21,
   "metadata": {},
   "outputs": [],
   "source": [
    "class Model_3_E(nn.Module):\n",
    "    def __init__(self, model_name='Model_3_E'):\n",
    "        super(Model_3_E, self).__init__()\n",
    "        self.name = model_name\n",
    "        self.layer1 = nn.Sequential(\n",
    "            nn.Conv2d(in_channels=3, out_channels=9, kernel_size=4, stride=1, padding=0),\n",
    "            nn.BatchNorm2d(9),\n",
    "            nn.ReLU(),\n",
    "            nn.AdaptiveAvgPool2d((100, 100))\n",
    "        )\n",
    "        self.layer2 = nn.Sequential(\n",
    "            nn.Conv2d(in_channels=9, out_channels=18, kernel_size=4, stride=1, padding=0),\n",
    "            nn.BatchNorm2d(18),\n",
    "            nn.ReLU(),\n",
    "            nn.AdaptiveMaxPool2d((50, 50))\n",
    "        )\n",
    "        self.layer3 = nn.Sequential(\n",
    "            nn.Conv2d(in_channels=18, out_channels=36, kernel_size=4, stride=1, padding=0),\n",
    "            nn.BatchNorm2d(36),\n",
    "            nn.ReLU(),\n",
    "            nn.AdaptiveMaxPool2d((10, 10))\n",
    "        )\n",
    "        self.layer4 = nn.Sequential(\n",
    "            nn.Flatten(),\n",
    "            nn.Linear(36 * 10 * 10, 200),\n",
    "            nn.ReLU(),\n",
    "            nn.Linear(200, 1)\n",
    "        )        \n",
    "    def forward(self, x):\n",
    "        x = self.layer1(x)\n",
    "        x = self.layer2(x)\n",
    "        x = self.layer3(x)\n",
    "        x = self.layer4(x)\n",
    "        x = f.sigmoid(x)\n",
    "        return x"
   ]
  },
  {
   "cell_type": "code",
   "execution_count": 24,
   "metadata": {},
   "outputs": [],
   "source": [
    "class Model_4_E(nn.Module):\n",
    "    def __init__(self, model_name='Model_4_E'):\n",
    "        super(Model_4_E, self).__init__()\n",
    "        self.name = model_name\n",
    "        self.layer1 = nn.Sequential(\n",
    "            nn.Conv2d(in_channels=3, out_channels=9, kernel_size=4, stride=1, padding=0),\n",
    "            nn.BatchNorm2d(9),\n",
    "            nn.ReLU(),\n",
    "            nn.AdaptiveAvgPool2d((100, 100))\n",
    "        )\n",
    "        self.layer2 = nn.Sequential(\n",
    "            nn.Conv2d(in_channels=9, out_channels=18, kernel_size=4, stride=1, padding=0),\n",
    "            nn.BatchNorm2d(18),\n",
    "            nn.ReLU(),\n",
    "            nn.AdaptiveMaxPool2d((100, 100))\n",
    "        )\n",
    "        self.layer3 = nn.Sequential(\n",
    "            nn.Conv2d(in_channels=18, out_channels=36, kernel_size=4, stride=1, padding=0),\n",
    "            nn.BatchNorm2d(36),\n",
    "            nn.ReLU(),\n",
    "            nn.AdaptiveMaxPool2d((50, 50))\n",
    "        )\n",
    "        self.layer4 = nn.Sequential(\n",
    "            nn.Conv2d(in_channels=36, out_channels=72, kernel_size=4, stride=1, padding=0),\n",
    "            nn.BatchNorm2d(72),\n",
    "            nn.ReLU(),\n",
    "            nn.AdaptiveMaxPool2d((10, 10))\n",
    "        )\n",
    "        self.layer5 = nn.Sequential(\n",
    "            nn.Flatten(),\n",
    "            nn.Linear(72 * 10 * 10, 200),\n",
    "            nn.ReLU(),\n",
    "            nn.Linear(200, 1)\n",
    "        )\n",
    "    def forward(self, x):\n",
    "        x = self.layer1(x)\n",
    "        x = self.layer2(x)\n",
    "        x = self.layer3(x)\n",
    "        x = self.layer4(x)\n",
    "        x = self.layer5(x)\n",
    "        x = f.sigmoid(x)\n",
    "        return x"
   ]
  },
  {
   "cell_type": "code",
   "execution_count": 18,
   "metadata": {},
   "outputs": [
    {
     "data": {
      "text/plain": [
       "Model_1_E(\n",
       "  (layer1): Sequential(\n",
       "    (0): Conv2d(3, 9, kernel_size=(4, 4), stride=(1, 1))\n",
       "    (1): BatchNorm2d(9, eps=1e-05, momentum=0.1, affine=True, track_running_stats=True)\n",
       "    (2): ReLU()\n",
       "    (3): AdaptiveMaxPool2d(output_size=(10, 10))\n",
       "  )\n",
       "  (layer2): Sequential(\n",
       "    (0): Flatten(start_dim=1, end_dim=-1)\n",
       "    (1): Linear(in_features=900, out_features=200, bias=True)\n",
       "    (2): ReLU()\n",
       "    (3): Linear(in_features=200, out_features=1, bias=True)\n",
       "  )\n",
       ")"
      ]
     },
     "execution_count": 18,
     "metadata": {},
     "output_type": "execute_result"
    }
   ],
   "source": [
    "Model_1_E()"
   ]
  },
  {
   "cell_type": "code",
   "execution_count": 19,
   "metadata": {},
   "outputs": [
    {
     "data": {
      "text/plain": [
       "Model_2_E(\n",
       "  (layer1): Sequential(\n",
       "    (0): Conv2d(3, 9, kernel_size=(4, 4), stride=(1, 1))\n",
       "    (1): BatchNorm2d(9, eps=1e-05, momentum=0.1, affine=True, track_running_stats=True)\n",
       "    (2): ReLU()\n",
       "    (3): AdaptiveAvgPool2d(output_size=(100, 100))\n",
       "  )\n",
       "  (layer2): Sequential(\n",
       "    (0): Conv2d(9, 18, kernel_size=(4, 4), stride=(1, 1))\n",
       "    (1): BatchNorm2d(18, eps=1e-05, momentum=0.1, affine=True, track_running_stats=True)\n",
       "    (2): ReLU()\n",
       "    (3): AdaptiveMaxPool2d(output_size=(10, 10))\n",
       "  )\n",
       "  (layer3): Sequential(\n",
       "    (0): Flatten(start_dim=1, end_dim=-1)\n",
       "    (1): Linear(in_features=1800, out_features=200, bias=True)\n",
       "    (2): ReLU()\n",
       "    (3): Linear(in_features=200, out_features=1, bias=True)\n",
       "  )\n",
       ")"
      ]
     },
     "execution_count": 19,
     "metadata": {},
     "output_type": "execute_result"
    }
   ],
   "source": [
    "Model_2_E()"
   ]
  },
  {
   "cell_type": "code",
   "execution_count": 22,
   "metadata": {},
   "outputs": [
    {
     "data": {
      "text/plain": [
       "Model_3_E(\n",
       "  (layer1): Sequential(\n",
       "    (0): Conv2d(3, 9, kernel_size=(4, 4), stride=(1, 1))\n",
       "    (1): BatchNorm2d(9, eps=1e-05, momentum=0.1, affine=True, track_running_stats=True)\n",
       "    (2): ReLU()\n",
       "    (3): AdaptiveAvgPool2d(output_size=(100, 100))\n",
       "  )\n",
       "  (layer2): Sequential(\n",
       "    (0): Conv2d(9, 18, kernel_size=(4, 4), stride=(1, 1))\n",
       "    (1): BatchNorm2d(18, eps=1e-05, momentum=0.1, affine=True, track_running_stats=True)\n",
       "    (2): ReLU()\n",
       "    (3): AdaptiveMaxPool2d(output_size=(50, 50))\n",
       "  )\n",
       "  (layer3): Sequential(\n",
       "    (0): Conv2d(18, 36, kernel_size=(4, 4), stride=(1, 1))\n",
       "    (1): BatchNorm2d(36, eps=1e-05, momentum=0.1, affine=True, track_running_stats=True)\n",
       "    (2): ReLU()\n",
       "    (3): AdaptiveMaxPool2d(output_size=(10, 10))\n",
       "  )\n",
       "  (layer4): Sequential(\n",
       "    (0): Flatten(start_dim=1, end_dim=-1)\n",
       "    (1): Linear(in_features=3600, out_features=200, bias=True)\n",
       "    (2): ReLU()\n",
       "    (3): Linear(in_features=200, out_features=1, bias=True)\n",
       "  )\n",
       ")"
      ]
     },
     "execution_count": 22,
     "metadata": {},
     "output_type": "execute_result"
    }
   ],
   "source": [
    "Model_3_E()"
   ]
  },
  {
   "cell_type": "code",
   "execution_count": 25,
   "metadata": {},
   "outputs": [
    {
     "data": {
      "text/plain": [
       "Model_4_E(\n",
       "  (layer1): Sequential(\n",
       "    (0): Conv2d(3, 9, kernel_size=(4, 4), stride=(1, 1))\n",
       "    (1): BatchNorm2d(9, eps=1e-05, momentum=0.1, affine=True, track_running_stats=True)\n",
       "    (2): ReLU()\n",
       "    (3): AdaptiveAvgPool2d(output_size=(100, 100))\n",
       "  )\n",
       "  (layer2): Sequential(\n",
       "    (0): Conv2d(9, 18, kernel_size=(4, 4), stride=(1, 1))\n",
       "    (1): BatchNorm2d(18, eps=1e-05, momentum=0.1, affine=True, track_running_stats=True)\n",
       "    (2): ReLU()\n",
       "    (3): AdaptiveMaxPool2d(output_size=(100, 100))\n",
       "  )\n",
       "  (layer3): Sequential(\n",
       "    (0): Conv2d(18, 36, kernel_size=(4, 4), stride=(1, 1))\n",
       "    (1): BatchNorm2d(36, eps=1e-05, momentum=0.1, affine=True, track_running_stats=True)\n",
       "    (2): ReLU()\n",
       "    (3): AdaptiveMaxPool2d(output_size=(50, 50))\n",
       "  )\n",
       "  (layer4): Sequential(\n",
       "    (0): Conv2d(36, 72, kernel_size=(4, 4), stride=(1, 1))\n",
       "    (1): BatchNorm2d(72, eps=1e-05, momentum=0.1, affine=True, track_running_stats=True)\n",
       "    (2): ReLU()\n",
       "    (3): AdaptiveMaxPool2d(output_size=(10, 10))\n",
       "  )\n",
       "  (layer5): Sequential(\n",
       "    (0): Flatten(start_dim=1, end_dim=-1)\n",
       "    (1): Linear(in_features=7200, out_features=200, bias=True)\n",
       "    (2): ReLU()\n",
       "    (3): Linear(in_features=200, out_features=1, bias=True)\n",
       "  )\n",
       ")"
      ]
     },
     "execution_count": 25,
     "metadata": {},
     "output_type": "execute_result"
    }
   ],
   "source": [
    "Model_4_E()"
   ]
  },
  {
   "cell_type": "code",
   "execution_count": 7,
   "metadata": {},
   "outputs": [
    {
     "name": "stdout",
     "output_type": "stream",
     "text": [
      "----------------------------------------------------------------\n",
      "        Layer (type)               Output Shape         Param #\n",
      "================================================================\n",
      "            Conv2d-1          [-1, 9, 221, 221]             441\n",
      "       BatchNorm2d-2          [-1, 9, 221, 221]              18\n",
      "              ReLU-3          [-1, 9, 221, 221]               0\n",
      " AdaptiveMaxPool2d-4            [-1, 9, 10, 10]               0\n",
      "           Flatten-5                  [-1, 900]               0\n",
      "            Linear-6                  [-1, 200]         180,200\n",
      "              ReLU-7                  [-1, 200]               0\n",
      "            Linear-8                    [-1, 1]             201\n",
      "================================================================\n",
      "Total params: 180,860\n",
      "Trainable params: 180,860\n",
      "Non-trainable params: 0\n",
      "----------------------------------------------------------------\n",
      "Input size (MB): 0.57\n",
      "Forward/backward pass size (MB): 10.08\n",
      "Params size (MB): 0.69\n",
      "Estimated Total Size (MB): 11.34\n",
      "----------------------------------------------------------------\n"
     ]
    }
   ],
   "source": [
    "summary(Model_1_E(), input_size=(3, 224, 224))"
   ]
  },
  {
   "cell_type": "code",
   "execution_count": 20,
   "metadata": {},
   "outputs": [
    {
     "name": "stdout",
     "output_type": "stream",
     "text": [
      "----------------------------------------------------------------\n",
      "        Layer (type)               Output Shape         Param #\n",
      "================================================================\n",
      "            Conv2d-1          [-1, 9, 221, 221]             441\n",
      "       BatchNorm2d-2          [-1, 9, 221, 221]              18\n",
      "              ReLU-3          [-1, 9, 221, 221]               0\n",
      " AdaptiveAvgPool2d-4          [-1, 9, 100, 100]               0\n",
      "            Conv2d-5           [-1, 18, 97, 97]           2,610\n",
      "       BatchNorm2d-6           [-1, 18, 97, 97]              36\n",
      "              ReLU-7           [-1, 18, 97, 97]               0\n",
      " AdaptiveMaxPool2d-8           [-1, 18, 10, 10]               0\n",
      "           Flatten-9                 [-1, 1800]               0\n",
      "           Linear-10                  [-1, 200]         360,200\n",
      "             ReLU-11                  [-1, 200]               0\n",
      "           Linear-12                    [-1, 1]             201\n",
      "================================================================\n",
      "Total params: 363,506\n",
      "Trainable params: 363,506\n",
      "Non-trainable params: 0\n",
      "----------------------------------------------------------------\n",
      "Input size (MB): 0.57\n",
      "Forward/backward pass size (MB): 14.65\n",
      "Params size (MB): 1.39\n",
      "Estimated Total Size (MB): 16.62\n",
      "----------------------------------------------------------------\n"
     ]
    }
   ],
   "source": [
    "summary(Model_2_E(), input_size=(3, 224, 224))"
   ]
  },
  {
   "cell_type": "code",
   "execution_count": 23,
   "metadata": {},
   "outputs": [
    {
     "name": "stdout",
     "output_type": "stream",
     "text": [
      "----------------------------------------------------------------\n",
      "        Layer (type)               Output Shape         Param #\n",
      "================================================================\n",
      "            Conv2d-1          [-1, 9, 221, 221]             441\n",
      "       BatchNorm2d-2          [-1, 9, 221, 221]              18\n",
      "              ReLU-3          [-1, 9, 221, 221]               0\n",
      " AdaptiveAvgPool2d-4          [-1, 9, 100, 100]               0\n",
      "            Conv2d-5           [-1, 18, 97, 97]           2,610\n",
      "       BatchNorm2d-6           [-1, 18, 97, 97]              36\n",
      "              ReLU-7           [-1, 18, 97, 97]               0\n",
      " AdaptiveMaxPool2d-8           [-1, 18, 50, 50]               0\n",
      "            Conv2d-9           [-1, 36, 47, 47]          10,404\n",
      "      BatchNorm2d-10           [-1, 36, 47, 47]              72\n",
      "             ReLU-11           [-1, 36, 47, 47]               0\n",
      "AdaptiveMaxPool2d-12           [-1, 36, 10, 10]               0\n",
      "          Flatten-13                 [-1, 3600]               0\n",
      "           Linear-14                  [-1, 200]         720,200\n",
      "             ReLU-15                  [-1, 200]               0\n",
      "           Linear-16                    [-1, 1]             201\n",
      "================================================================\n",
      "Total params: 733,982\n",
      "Trainable params: 733,982\n",
      "Non-trainable params: 0\n",
      "----------------------------------------------------------------\n",
      "Input size (MB): 0.57\n",
      "Forward/backward pass size (MB): 16.85\n",
      "Params size (MB): 2.80\n",
      "Estimated Total Size (MB): 20.22\n",
      "----------------------------------------------------------------\n"
     ]
    }
   ],
   "source": [
    "summary(Model_3_E(), input_size=(3, 224, 224))"
   ]
  },
  {
   "cell_type": "code",
   "execution_count": 26,
   "metadata": {},
   "outputs": [
    {
     "name": "stdout",
     "output_type": "stream",
     "text": [
      "----------------------------------------------------------------\n",
      "        Layer (type)               Output Shape         Param #\n",
      "================================================================\n",
      "            Conv2d-1          [-1, 9, 221, 221]             441\n",
      "       BatchNorm2d-2          [-1, 9, 221, 221]              18\n",
      "              ReLU-3          [-1, 9, 221, 221]               0\n",
      " AdaptiveAvgPool2d-4          [-1, 9, 100, 100]               0\n",
      "            Conv2d-5           [-1, 18, 97, 97]           2,610\n",
      "       BatchNorm2d-6           [-1, 18, 97, 97]              36\n",
      "              ReLU-7           [-1, 18, 97, 97]               0\n",
      " AdaptiveMaxPool2d-8         [-1, 18, 100, 100]               0\n",
      "            Conv2d-9           [-1, 36, 97, 97]          10,404\n",
      "      BatchNorm2d-10           [-1, 36, 97, 97]              72\n",
      "             ReLU-11           [-1, 36, 97, 97]               0\n",
      "AdaptiveMaxPool2d-12           [-1, 36, 50, 50]               0\n",
      "           Conv2d-13           [-1, 72, 47, 47]          41,544\n",
      "      BatchNorm2d-14           [-1, 72, 47, 47]             144\n",
      "             ReLU-15           [-1, 72, 47, 47]               0\n",
      "AdaptiveMaxPool2d-16           [-1, 72, 10, 10]               0\n",
      "          Flatten-17                 [-1, 7200]               0\n",
      "           Linear-18                  [-1, 200]       1,440,200\n",
      "             ReLU-19                  [-1, 200]               0\n",
      "           Linear-20                    [-1, 1]             201\n",
      "================================================================\n",
      "Total params: 1,495,670\n",
      "Trainable params: 1,495,670\n",
      "Non-trainable params: 0\n",
      "----------------------------------------------------------------\n",
      "Input size (MB): 0.57\n",
      "Forward/backward pass size (MB): 28.19\n",
      "Params size (MB): 5.71\n",
      "Estimated Total Size (MB): 34.47\n",
      "----------------------------------------------------------------\n"
     ]
    }
   ],
   "source": [
    "summary(Model_4_E(), input_size=(3, 224, 224))"
   ]
  },
  {
   "cell_type": "code",
   "execution_count": null,
   "metadata": {},
   "outputs": [],
   "source": []
  }
 ],
 "metadata": {
  "kernelspec": {
   "display_name": "base",
   "language": "python",
   "name": "python3"
  },
  "language_info": {
   "codemirror_mode": {
    "name": "ipython",
    "version": 3
   },
   "file_extension": ".py",
   "mimetype": "text/x-python",
   "name": "python",
   "nbconvert_exporter": "python",
   "pygments_lexer": "ipython3",
   "version": "3.12.2"
  }
 },
 "nbformat": 4,
 "nbformat_minor": 2
}
